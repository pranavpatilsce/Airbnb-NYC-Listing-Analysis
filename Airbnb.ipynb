{
 "cells": [
  {
   "cell_type": "code",
   "execution_count": 1,
   "metadata": {
    "scrolled": false
   },
   "outputs": [
    {
     "name": "stdout",
     "output_type": "stream",
     "text": [
      "Empty DataFrame\n",
      "Columns: [host_is_superhost, host_listings_count, host_has_profile_pic, host_identity_verified, neighbourhood_cleansed, property_type, room_type, accommodates, bathrooms, bedrooms, beds, bed_type, price, guests_included, number_of_reviews, instant_bookable, neighbourhood_group_cleansed, amenities]\n",
      "Index: []\n",
      "[[0 1 1 ... 1 1 'Pull-out Sofa']\n",
      " [0 1 1 ... 1 4 'Real Bed']\n",
      " [0 1 1 ... 1 1 'Real Bed']\n",
      " ...\n",
      " [0 0 1 ... 0 1 'Real Bed']\n",
      " [0 1 1 ... 1 1 'Real Bed']\n",
      " [0 1 1 ... 1 1 'Real Bed']]\n",
      "Encoded values\n",
      "[[0 1 1 ... 1 1 3]\n",
      " [0 1 1 ... 1 4 4]\n",
      " [0 1 1 ... 1 1 4]\n",
      " ...\n",
      " [0 0 1 ... 0 1 4]\n",
      " [0 1 1 ... 1 1 4]\n",
      " [0 1 1 ... 1 1 4]]\n"
     ]
    }
   ],
   "source": [
    "import numpy as np\n",
    "import pandas as pd \n",
    "from sklearn.model_selection import train_test_split\n",
    "from sklearn.preprocessing import LabelEncoder\n",
    "from sklearn.linear_model import LinearRegression\n",
    "import matplotlib.pyplot as plt\n",
    "\n",
    "pd.set_option('display.max_columns',None)\n",
    "pd.set_option('display.max_rows',None)\n",
    "\n",
    "\n",
    "# def extract_list_val(s):\n",
    "#     for c in ['{''}''\"']:\n",
    "#         s=s.replace(c,'')\n",
    "#     for c in ['/'':',' ','-','.','&',')','(','\\'']:\n",
    "#         s=s.replace(c,'_')\n",
    "#     s=s.replace('matress','mattress')\n",
    "#     return s.split(',')\n",
    "\n",
    "listings = pd.read_csv(\"D:\\CS 271\\Project\\listings_cleaned_two_lastminute_initial.csv\")\n",
    "listings = listings.replace(to_replace = 't',value = 1).replace(to_replace = 'f',value = 0)\n",
    "listings = listings.fillna(1)\n",
    "\n",
    "nan_rows = listings[listings['host_identity_verified'].isna()]\n",
    "print(nan_rows)\n",
    "\n",
    "X = listings.iloc[:,:12].values\n",
    "y = listings.iloc[:,12].values\n",
    "\n",
    "print(X)\n",
    "encoder = LabelEncoder()\n",
    "X[:,4] = encoder.fit_transform(X[:,4])\n",
    "X[:,5] = encoder.fit_transform(X[:,5])\n",
    "X[:,6] = encoder.fit_transform(X[:,6])\n",
    "X[:,11] = encoder.fit_transform(X[:,11])\n",
    "# pred_test = encoder.inverse_transform(X)\n",
    "print(\"Encoded values\")\n",
    "print(X)\n",
    "# onehotencoder = OneHotEncoder(categorical_features = [1])\n",
    "# # Xt = X.reshape(-1,1)\n",
    "# # print(Xt.shape)\n",
    "# # print(X)\n",
    "# Xt = onehotencoder.fit_transform(X).toarray()\n",
    "# print(Xt)\n",
    "# print(Xt.shape)"
   ]
  },
  {
   "cell_type": "code",
   "execution_count": null,
   "metadata": {},
   "outputs": [],
   "source": [
    "x_train,x_test,y_train,y_test = train_test_split(X, y, test_size = 1/3, random_state = 0)\n",
    "print((x_train))\n",
    "print(x_train.shape)\n",
    "print(y_train.shape)\n",
    "\n",
    "# xt = x_train.reshape(-1,1)\n",
    "# yt = y_train.reshape(-1,1)\n",
    "\n",
    "print(x_train.shape)\n",
    "print(y_train.shape)\n",
    "reg = LinearRegression()\n",
    "reg.fit(x_train,y_train)\n",
    "\n",
    "print(reg)"
   ]
  },
  {
   "cell_type": "code",
   "execution_count": null,
   "metadata": {
    "scrolled": true
   },
   "outputs": [],
   "source": [
    "# x_train = x_train.reshape(-1,1)\n",
    "# y_train = y_train.reshape(-1,1)\n",
    "# print(xscore)\n",
    "print(x_train.shape)\n",
    "print(y_train.shape)\n",
    "pred = reg.predict(x_test)\n",
    "print(pred)\n",
    "# print(x_train)\n",
    "# print(pred)"
   ]
  },
  {
   "cell_type": "code",
   "execution_count": 22,
   "metadata": {},
   "outputs": [
    {
     "ename": "ValueError",
     "evalue": "shapes (16126,1) and (5,) not aligned: 1 (dim 1) != 5 (dim 0)",
     "output_type": "error",
     "traceback": [
      "\u001b[1;31m---------------------------------------------------------------------------\u001b[0m",
      "\u001b[1;31mValueError\u001b[0m                                Traceback (most recent call last)",
      "\u001b[1;32m<ipython-input-22-de912c15ac7f>\u001b[0m in \u001b[0;36m<module>\u001b[1;34m\u001b[0m\n\u001b[0;32m      2\u001b[0m \u001b[1;31m# print(len(xscore))\u001b[0m\u001b[1;33m\u001b[0m\u001b[1;33m\u001b[0m\u001b[1;33m\u001b[0m\u001b[0m\n\u001b[0;32m      3\u001b[0m \u001b[0mplt\u001b[0m\u001b[1;33m.\u001b[0m\u001b[0mscatter\u001b[0m\u001b[1;33m(\u001b[0m\u001b[0mx_train\u001b[0m\u001b[1;33m,\u001b[0m\u001b[0my_train\u001b[0m\u001b[1;33m,\u001b[0m\u001b[0mcolor\u001b[0m \u001b[1;33m=\u001b[0m \u001b[1;34m'red'\u001b[0m\u001b[1;33m)\u001b[0m\u001b[1;33m\u001b[0m\u001b[1;33m\u001b[0m\u001b[0m\n\u001b[1;32m----> 4\u001b[1;33m \u001b[0mplt\u001b[0m\u001b[1;33m.\u001b[0m\u001b[0mplot\u001b[0m\u001b[1;33m(\u001b[0m\u001b[0mx_test\u001b[0m\u001b[1;33m,\u001b[0m\u001b[0mreg\u001b[0m\u001b[1;33m.\u001b[0m\u001b[0mpredict\u001b[0m\u001b[1;33m(\u001b[0m\u001b[0mx_test\u001b[0m\u001b[1;33m)\u001b[0m\u001b[1;33m,\u001b[0m\u001b[0mcolor\u001b[0m \u001b[1;33m=\u001b[0m \u001b[1;34m'blue'\u001b[0m\u001b[1;33m)\u001b[0m\u001b[1;33m\u001b[0m\u001b[1;33m\u001b[0m\u001b[0m\n\u001b[0m\u001b[0;32m      5\u001b[0m \u001b[0mplt\u001b[0m\u001b[1;33m.\u001b[0m\u001b[0mshow\u001b[0m\u001b[1;33m(\u001b[0m\u001b[1;33m)\u001b[0m\u001b[1;33m\u001b[0m\u001b[1;33m\u001b[0m\u001b[0m\n",
      "\u001b[1;32m~\\Anaconda3\\lib\\site-packages\\sklearn\\linear_model\\base.py\u001b[0m in \u001b[0;36mpredict\u001b[1;34m(self, X)\u001b[0m\n\u001b[0;32m    219\u001b[0m             \u001b[0mReturns\u001b[0m \u001b[0mpredicted\u001b[0m \u001b[0mvalues\u001b[0m\u001b[1;33m.\u001b[0m\u001b[1;33m\u001b[0m\u001b[1;33m\u001b[0m\u001b[0m\n\u001b[0;32m    220\u001b[0m         \"\"\"\n\u001b[1;32m--> 221\u001b[1;33m         \u001b[1;32mreturn\u001b[0m \u001b[0mself\u001b[0m\u001b[1;33m.\u001b[0m\u001b[0m_decision_function\u001b[0m\u001b[1;33m(\u001b[0m\u001b[0mX\u001b[0m\u001b[1;33m)\u001b[0m\u001b[1;33m\u001b[0m\u001b[1;33m\u001b[0m\u001b[0m\n\u001b[0m\u001b[0;32m    222\u001b[0m \u001b[1;33m\u001b[0m\u001b[0m\n\u001b[0;32m    223\u001b[0m     \u001b[0m_preprocess_data\u001b[0m \u001b[1;33m=\u001b[0m \u001b[0mstaticmethod\u001b[0m\u001b[1;33m(\u001b[0m\u001b[0m_preprocess_data\u001b[0m\u001b[1;33m)\u001b[0m\u001b[1;33m\u001b[0m\u001b[1;33m\u001b[0m\u001b[0m\n",
      "\u001b[1;32m~\\Anaconda3\\lib\\site-packages\\sklearn\\linear_model\\base.py\u001b[0m in \u001b[0;36m_decision_function\u001b[1;34m(self, X)\u001b[0m\n\u001b[0;32m    204\u001b[0m         \u001b[0mX\u001b[0m \u001b[1;33m=\u001b[0m \u001b[0mcheck_array\u001b[0m\u001b[1;33m(\u001b[0m\u001b[0mX\u001b[0m\u001b[1;33m,\u001b[0m \u001b[0maccept_sparse\u001b[0m\u001b[1;33m=\u001b[0m\u001b[1;33m[\u001b[0m\u001b[1;34m'csr'\u001b[0m\u001b[1;33m,\u001b[0m \u001b[1;34m'csc'\u001b[0m\u001b[1;33m,\u001b[0m \u001b[1;34m'coo'\u001b[0m\u001b[1;33m]\u001b[0m\u001b[1;33m)\u001b[0m\u001b[1;33m\u001b[0m\u001b[1;33m\u001b[0m\u001b[0m\n\u001b[0;32m    205\u001b[0m         return safe_sparse_dot(X, self.coef_.T,\n\u001b[1;32m--> 206\u001b[1;33m                                dense_output=True) + self.intercept_\n\u001b[0m\u001b[0;32m    207\u001b[0m \u001b[1;33m\u001b[0m\u001b[0m\n\u001b[0;32m    208\u001b[0m     \u001b[1;32mdef\u001b[0m \u001b[0mpredict\u001b[0m\u001b[1;33m(\u001b[0m\u001b[0mself\u001b[0m\u001b[1;33m,\u001b[0m \u001b[0mX\u001b[0m\u001b[1;33m)\u001b[0m\u001b[1;33m:\u001b[0m\u001b[1;33m\u001b[0m\u001b[1;33m\u001b[0m\u001b[0m\n",
      "\u001b[1;32m~\\Anaconda3\\lib\\site-packages\\sklearn\\utils\\extmath.py\u001b[0m in \u001b[0;36msafe_sparse_dot\u001b[1;34m(a, b, dense_output)\u001b[0m\n\u001b[0;32m    140\u001b[0m         \u001b[1;32mreturn\u001b[0m \u001b[0mret\u001b[0m\u001b[1;33m\u001b[0m\u001b[1;33m\u001b[0m\u001b[0m\n\u001b[0;32m    141\u001b[0m     \u001b[1;32melse\u001b[0m\u001b[1;33m:\u001b[0m\u001b[1;33m\u001b[0m\u001b[1;33m\u001b[0m\u001b[0m\n\u001b[1;32m--> 142\u001b[1;33m         \u001b[1;32mreturn\u001b[0m \u001b[0mnp\u001b[0m\u001b[1;33m.\u001b[0m\u001b[0mdot\u001b[0m\u001b[1;33m(\u001b[0m\u001b[0ma\u001b[0m\u001b[1;33m,\u001b[0m \u001b[0mb\u001b[0m\u001b[1;33m)\u001b[0m\u001b[1;33m\u001b[0m\u001b[1;33m\u001b[0m\u001b[0m\n\u001b[0m\u001b[0;32m    143\u001b[0m \u001b[1;33m\u001b[0m\u001b[0m\n\u001b[0;32m    144\u001b[0m \u001b[1;33m\u001b[0m\u001b[0m\n",
      "\u001b[1;31mValueError\u001b[0m: shapes (16126,1) and (5,) not aligned: 1 (dim 1) != 5 (dim 0)"
     ]
    },
    {
     "data": {
      "image/png": "[encoded data removed]",
      "text/plain": [
       "<Figure size 432x288 with 1 Axes>"
      ]
     },
     "metadata": {
      "needs_background": "light"
     },
     "output_type": "display_data"
    }
   ],
   "source": [
    "# print(len(xt))\n",
    "# print(len(xscore))\n",
    "plt.scatter(x_train,y_train,color = 'red')\n",
    "plt.plot(x_test,reg.predict(x_test),color = 'blue')\n",
    "plt.show()"
   ]
  },
  {
   "cell_type": "code",
   "execution_count": 14,
   "metadata": {},
   "outputs": [
    {
     "data": {
      "text/plain": [
       "array(['{\"Cable_TV\" Internet Wifi \"Air_conditioning\" Kitchen \"Buzzer/wireless_intercom\" Heating \"Smoke_detector\" \"Carbon_monoxide_detector\" \"translation_missing:_en_hosting_amenity_49\" \"translation_missing:_en_hosting_amenity_50\"}',\n",
       "       '{TV \"Cable_TV\" Internet Wifi \"Air_conditioning\" Kitchen \"Pets_allowed\" \"Free_street_parking\" Heating \"Family/kid_friendly\" \"Smoke_detector\" \"Carbon_monoxide_detector\" \"Fire_extinguisher\" Essentials Shampoo \"Lock_on_bedroom_door\" \"24_hour_check_in\" Hangers \"Hair_dryer\" Iron \"Laptop_friendly_workspace\" \"Self_check_in\" Lockbox Bathtub \"High_chair\" \"Stair_gates\" \"Children’s_books_and_toys\" \"Pack_’n_Play/travel_crib\" \"Hot_water\" Microwave \"Coffee_maker\" Refrigerator \"Dishes_and_silverware\" \"Cooking_basics\" Oven Stove \"Luggage_dropoff_allowed\" \"Long_term_stays_allowed\"}',\n",
       "       '{Internet Wifi \"Air_conditioning\" Kitchen Elevator \"Free_street_parking\" \"Buzzer/wireless_intercom\" Heating Washer Dryer \"Smoke_detector\" \"Carbon_monoxide_detector\" Essentials Shampoo \"Hair_dryer\" \"Hot_water\" \"Host_greets_you\"}',\n",
       "       ...,\n",
       "       '{Wifi \"Air_conditioning\" Kitchen Gym Elevator Heating Washer Dryer \"Smoke_detector\" Essentials Hangers Iron \"Hot_water\"}',\n",
       "       '{Wifi \"Air_conditioning\" Kitchen \"Free_street_parking\" Heating \"Smoke_detector\" \"Carbon_monoxide_detector\" \"First_aid_kit\" \"Fire_extinguisher\" Essentials Shampoo \"Lock_on_bedroom_door\" Hangers \"Hair_dryer\" Iron \"Laptop_friendly_workspace\" \"Self_check_in\" Keypad \"Hot_water\" \"Bed_linens\" Microwave \"Coffee_maker\" Refrigerator \"Dishes_and_silverware\" \"Cooking_basics\" Oven Stove}',\n",
       "       '{TV Wifi Kitchen Gym Heating \"Smoke_detector\" \"Carbon_monoxide_detector\" Essentials Shampoo \"Lock_on_bedroom_door\" Hangers Iron \"Laptop_friendly_workspace\"}'],\n",
       "      dtype=object)"
      ]
     },
     "execution_count": 14,
     "metadata": {},
     "output_type": "execute_result"
    }
   ],
   "source": [
    "ament = listings.iloc[:,7].values\n",
    "ament\n",
    "# ament.shape"
   ]
  },
  {
   "cell_type": "code",
   "execution_count": 16,
   "metadata": {},
   "outputs": [
    {
     "name": "stdout",
     "output_type": "stream",
     "text": [
      "[[346]\n",
      " [7495]\n",
      " [3140]\n",
      " ...\n",
      " [39511]\n",
      " [36009]\n",
      " [33514]]\n"
     ]
    }
   ],
   "source": [
    "ament = ament.reshape(-1,1)\n",
    "#encoded_ament = ament\n",
    "ament[:,0] = encoder.fit_transform(ament[:,0])\n",
    "#print(encoded_ament)\n",
    "print(ament)"
   ]
  },
  {
   "cell_type": "code",
   "execution_count": 17,
   "metadata": {},
   "outputs": [],
   "source": [
    "x_train,x_test,y_train,y_test = train_test_split(ament, y, test_size = 1/3, random_state = 0)\n"
   ]
  },
  {
   "cell_type": "code",
   "execution_count": 19,
   "metadata": {},
   "outputs": [
    {
     "data": {
      "text/plain": [
       "RandomForestRegressor(bootstrap=True, criterion='mse', max_depth=None,\n",
       "                      max_features='auto', max_leaf_nodes=None,\n",
       "                      min_impurity_decrease=0.0, min_impurity_split=None,\n",
       "                      min_samples_leaf=1, min_samples_split=2,\n",
       "                      min_weight_fraction_leaf=0.0, n_estimators=10,\n",
       "                      n_jobs=None, oob_score=False, random_state=0, verbose=0,\n",
       "                      warm_start=False)"
      ]
     },
     "execution_count": 19,
     "metadata": {},
     "output_type": "execute_result"
    }
   ],
   "source": [
    "from sklearn.ensemble import RandomForestRegressor\n",
    "regressor = RandomForestRegressor(n_estimators = 10, random_state = 0)\n",
    "regressor.fit(x_train,y_train)"
   ]
  },
  {
   "cell_type": "code",
   "execution_count": 21,
   "metadata": {},
   "outputs": [
    {
     "data": {
      "text/plain": [
       "152.8841140379783"
      ]
     },
     "execution_count": 21,
     "metadata": {},
     "output_type": "execute_result"
    }
   ],
   "source": [
    "y_pred = regressor.predict([[10889],[6075],[18002],[27255],[16096]])\n",
    "# 10889\n",
    "# 6075\n",
    "# 18002\n",
    "# 37023\n",
    "# 27255\n",
    "# 15388\n",
    "# 16096\n",
    "# 7287\n",
    "# 40068\n",
    "#  4944\n",
    "#  9414\n",
    "# 37347\n",
    "#  6912\n",
    "#  2760\n",
    "# 37384\n",
    "# 17611\n",
    "# 15098\n",
    "# 1777\n",
    "y_pred\n",
    "y_mean = np.mean(y_pred)\n",
    "y_mean"
   ]
  },
  {
   "cell_type": "code",
   "execution_count": 13,
   "metadata": {},
   "outputs": [
    {
     "ename": "NameError",
     "evalue": "name 'clf' is not defined",
     "output_type": "error",
     "traceback": [
      "\u001b[1;31m---------------------------------------------------------------------------\u001b[0m",
      "\u001b[1;31mNameError\u001b[0m                                 Traceback (most recent call last)",
      "\u001b[1;32m<ipython-input-13-7cf1b4f4865a>\u001b[0m in \u001b[0;36m<module>\u001b[1;34m\u001b[0m\n\u001b[0;32m      1\u001b[0m \u001b[1;32mimport\u001b[0m \u001b[0mpickle\u001b[0m\u001b[1;33m\u001b[0m\u001b[1;33m\u001b[0m\u001b[0m\n\u001b[1;32m----> 2\u001b[1;33m \u001b[0ms\u001b[0m \u001b[1;33m=\u001b[0m \u001b[0mpickle\u001b[0m\u001b[1;33m.\u001b[0m\u001b[0mdumps\u001b[0m\u001b[1;33m(\u001b[0m\u001b[0mclf\u001b[0m\u001b[1;33m)\u001b[0m\u001b[1;33m\u001b[0m\u001b[1;33m\u001b[0m\u001b[0m\n\u001b[0m\u001b[0;32m      3\u001b[0m \u001b[0mclf2\u001b[0m \u001b[1;33m=\u001b[0m \u001b[0mpickle\u001b[0m\u001b[1;33m.\u001b[0m\u001b[0mloads\u001b[0m\u001b[1;33m(\u001b[0m\u001b[0ms\u001b[0m\u001b[1;33m)\u001b[0m\u001b[1;33m\u001b[0m\u001b[1;33m\u001b[0m\u001b[0m\n\u001b[0;32m      4\u001b[0m \u001b[0mclf2\u001b[0m\u001b[1;33m.\u001b[0m\u001b[0mpredict\u001b[0m\u001b[1;33m(\u001b[0m\u001b[0mX\u001b[0m\u001b[1;33m[\u001b[0m\u001b[1;36m0\u001b[0m\u001b[1;33m:\u001b[0m\u001b[1;36m1\u001b[0m\u001b[1;33m]\u001b[0m\u001b[1;33m)\u001b[0m\u001b[1;33m\u001b[0m\u001b[1;33m\u001b[0m\u001b[0m\n",
      "\u001b[1;31mNameError\u001b[0m: name 'clf' is not defined"
     ]
    }
   ],
   "source": [
    "import pickle\n",
    "s = pickle.dumps(clf)\n",
    "clf2 = pickle.loads(s)\n",
    "clf2.predict(X[0:1])"
   ]
  }
 ],
 "metadata": {
  "kernelspec": {
   "display_name": "Python 3",
   "language": "python",
   "name": "python3"
  },
  "language_info": {
   "codemirror_mode": {
    "name": "ipython",
    "version": 3
   },
   "file_extension": ".py",
   "mimetype": "text/x-python",
   "name": "python",
   "nbconvert_exporter": "python",
   "pygments_lexer": "ipython3",
   "version": "3.6.8"
  },
  "varInspector": {
   "cols": {
    "lenName": 16,
    "lenType": 16,
    "lenVar": 40
   },
   "kernels_config": {
    "python": {
     "delete_cmd_postfix": "",
     "delete_cmd_prefix": "del ",
     "library": "var_list.py",
     "varRefreshCmd": "print(var_dic_list())"
    },
    "r": {
     "delete_cmd_postfix": ") ",
     "delete_cmd_prefix": "rm(",
     "library": "var_list.r",
     "varRefreshCmd": "cat(var_dic_list()) "
    }
   },
   "types_to_exclude": [
    "module",
    "function",
    "builtin_function_or_method",
    "instance",
    "_Feature"
   ],
   "window_display": false
  }
 },
 "nbformat": 4,
 "nbformat_minor": 2
}
